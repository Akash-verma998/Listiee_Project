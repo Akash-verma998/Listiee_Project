{
 "cells": [
  {
   "cell_type": "code",
   "execution_count": 1,
   "metadata": {},
   "outputs": [
    {
     "name": "stderr",
     "output_type": "stream",
     "text": [
      "C:\\Users\\public\\Anaconda3\\lib\\site-packages\\h5py\\__init__.py:36: FutureWarning: Conversion of the second argument of issubdtype from `float` to `np.floating` is deprecated. In future, it will be treated as `np.float64 == np.dtype(float).type`.\n",
      "  from ._conv import register_converters as _register_converters\n",
      "Using TensorFlow backend.\n"
     ]
    },
    {
     "data": {
      "text/html": [
       "<style>.container { width:100% !important; }</style>"
      ],
      "text/plain": [
       "<IPython.core.display.HTML object>"
      ]
     },
     "metadata": {},
     "output_type": "display_data"
    }
   ],
   "source": [
    "import keras \n",
    "import numpy as np\n",
    "from keras.preprocessing.text import Tokenizer\n",
    "import numpy as np\n",
    "import pandas as pd\n",
    "from keras.models import Sequential\n",
    "from keras.layers import Dense\n",
    "from keras.preprocessing.sequence import pad_sequences\n",
    "from keras.layers import Input, Dense, Dropout, Embedding, LSTM, Flatten,Conv1D,MaxPooling1D,Bidirectional\n",
    "from keras.models import Model\n",
    "from keras.utils import to_categorical\n",
    "from keras.callbacks import ModelCheckpoint\n",
    "import seaborn as sns\n",
    "import matplotlib.pyplot as plt\n",
    "from sklearn.model_selection import train_test_split\n",
    "from sklearn.metrics import accuracy_score\n",
    "plt.style.use('ggplot')\n",
    "%matplotlib inline\n",
    "from IPython.core.display import display, HTML\n",
    "display(HTML(\"<style>.container { width:100% !important; }</style>\"))\n",
    "from nltk.corpus import stopwords\n",
    "import nltk\n",
    "import string \n",
    "from tensorflow.keras import regularizers"
   ]
  },
  {
   "cell_type": "code",
   "execution_count": 2,
   "metadata": {},
   "outputs": [],
   "source": [
    "data=pd.read_excel('Book1.xlsx')\n",
    "data = data.dropna()"
   ]
  },
  {
   "cell_type": "code",
   "execution_count": 30,
   "metadata": {},
   "outputs": [],
   "source": [
    "data.head()\n",
    "title = [['List of conflicts in the United States']]"
   ]
  },
  {
   "cell_type": "code",
   "execution_count": 4,
   "metadata": {},
   "outputs": [],
   "source": [
    "stop_words=list(set(stopwords.words('english')))\n",
    "punct = list(string.punctuation)\n",
    "stop_words1 = stop_words + punct + [\"Lists\",\"List\",'list','lists']\n",
    "stop_words = stop_words + punct + [\"Lists\",\"List\",'list','lists','top']  \n",
    "d_best = {}\n",
    "for i in range(len(data['text'])):#converting train data in lower form\n",
    "    p = data['text'][i]\n",
    "    d_best[p] = data['category'][i]\n",
    "    p=p.split(' ')\n",
    "    filter_word = [ele for ele in p if ele not in stop_words]\n",
    "    p = \" \".join(filter_word)\n",
    "    data['text'][i]=p\n",
    "    \n"
   ]
  },
  {
   "cell_type": "code",
   "execution_count": 5,
   "metadata": {},
   "outputs": [
    {
     "data": {
      "text/plain": [
       "18    405\n",
       "15    362\n",
       "2     318\n",
       "17    236\n",
       "13    202\n",
       "6     187\n",
       "11    175\n",
       "19    162\n",
       "0     158\n",
       "12    142\n",
       "8     142\n",
       "4     124\n",
       "7     122\n",
       "9     121\n",
       "10    120\n",
       "16    114\n",
       "5     112\n",
       "14     19\n",
       "3      15\n",
       "1       9\n",
       "Name: target, dtype: int64"
      ]
     },
     "execution_count": 5,
     "metadata": {},
     "output_type": "execute_result"
    }
   ],
   "source": [
    "data['target'] = data.category.astype('category').cat.codes\n",
    "data['target'].value_counts()"
   ]
  },
  {
   "cell_type": "code",
   "execution_count": 6,
   "metadata": {},
   "outputs": [
    {
     "data": {
      "text/plain": [
       "Sport            405\n",
       "Music            362\n",
       "Crime            318\n",
       "Science          236\n",
       "Law              202\n",
       "Energy           187\n",
       "History          175\n",
       "Technology       162\n",
       "Business         158\n",
       "Geography        142\n",
       "Languages        142\n",
       "Economy          124\n",
       "Entertainment    122\n",
       "Government       121\n",
       "Health           120\n",
       "Politics         114\n",
       "Education        112\n",
       "Life              19\n",
       "Cultural          15\n",
       "Bussiness          9\n",
       "Name: category, dtype: int64"
      ]
     },
     "execution_count": 6,
     "metadata": {},
     "output_type": "execute_result"
    }
   ],
   "source": [
    "data['category'].value_counts()"
   ]
  },
  {
   "cell_type": "code",
   "execution_count": 7,
   "metadata": {},
   "outputs": [],
   "source": [
    "num_class = len(np.unique(data.category.values))\n",
    "y = data['target'].values\n",
    "\n",
    "\n",
    "d={17:'Sport',14:'Music',1:'Crime',16:'Science',12:'Law',5:'Energy',10:'History',0:'Bussiness',18:'Tchnology',7:'Languages',11:'Geograpghy',3:'Economy',6:'Entertainment',8:'Government',9:'Health',15:'Politics',4:'Education',13:'Life',2:'Cultural'}\n",
    "MAX_LENGTH = 10\n",
    "tokenizer = Tokenizer()\n",
    "tokenizer.fit_on_texts(data.text.values)\n",
    "post_seq = tokenizer.texts_to_sequences(data.text.values)\n",
    "post_seq_padded = pad_sequences(post_seq, maxlen=MAX_LENGTH)"
   ]
  },
  {
   "cell_type": "code",
   "execution_count": null,
   "metadata": {},
   "outputs": [],
   "source": []
  },
  {
   "cell_type": "code",
   "execution_count": 8,
   "metadata": {},
   "outputs": [
    {
     "name": "stdout",
     "output_type": "stream",
     "text": [
      "Model: \"model_1\"\n",
      "_________________________________________________________________\n",
      "Layer (type)                 Output Shape              Param #   \n",
      "=================================================================\n",
      "input_1 (InputLayer)         (None, 10)                0         \n",
      "_________________________________________________________________\n",
      "embedding_1 (Embedding)      (None, 10, 128)           456576    \n",
      "_________________________________________________________________\n",
      "lstm_1 (LSTM)                (None, 64)                49408     \n",
      "_________________________________________________________________\n",
      "dense_1 (Dense)              (None, 32)                2080      \n",
      "_________________________________________________________________\n",
      "dense_2 (Dense)              (None, 20)                660       \n",
      "=================================================================\n",
      "Total params: 508,724\n",
      "Trainable params: 508,724\n",
      "Non-trainable params: 0\n",
      "_________________________________________________________________\n",
      "WARNING:tensorflow:From C:\\Users\\public\\Anaconda3\\lib\\site-packages\\keras\\backend\\tensorflow_backend.py:422: The name tf.global_variables is deprecated. Please use tf.compat.v1.global_variables instead.\n",
      "\n",
      "Train on 2311 samples, validate on 771 samples\n",
      "Epoch 1/10\n",
      "2311/2311 [==============================] - 4s 2ms/step - loss: 2.9067 - acc: 0.1116 - val_loss: 2.8061 - val_acc: 0.1193\n",
      "\n",
      "Epoch 00001: val_acc improved from -inf to 0.11933, saving model to weights.hdf5\n",
      "Epoch 2/10\n",
      "2311/2311 [==============================] - 3s 1ms/step - loss: 2.6603 - acc: 0.2051 - val_loss: 2.4889 - val_acc: 0.3346\n",
      "\n",
      "Epoch 00002: val_acc improved from 0.11933 to 0.33463, saving model to weights.hdf5\n",
      "Epoch 3/10\n",
      "2311/2311 [==============================] - 3s 1ms/step - loss: 2.0308 - acc: 0.4163 - val_loss: 1.8889 - val_acc: 0.4877\n",
      "\n",
      "Epoch 00003: val_acc improved from 0.33463 to 0.48768, saving model to weights.hdf5\n",
      "Epoch 4/10\n",
      "2311/2311 [==============================] - 3s 1ms/step - loss: 1.3043 - acc: 0.6646 - val_loss: 1.6534 - val_acc: 0.5486\n",
      "\n",
      "Epoch 00004: val_acc improved from 0.48768 to 0.54864, saving model to weights.hdf5\n",
      "Epoch 5/10\n",
      "2311/2311 [==============================] - 3s 1ms/step - loss: 0.8299 - acc: 0.8273 - val_loss: 1.3422 - val_acc: 0.6939\n",
      "\n",
      "Epoch 00005: val_acc improved from 0.54864 to 0.69390, saving model to weights.hdf5\n",
      "Epoch 6/10\n",
      "2311/2311 [==============================] - 3s 1ms/step - loss: 0.4780 - acc: 0.9230 - val_loss: 1.2611 - val_acc: 0.7004\n",
      "\n",
      "Epoch 00006: val_acc improved from 0.69390 to 0.70039, saving model to weights.hdf5\n",
      "Epoch 7/10\n",
      "2311/2311 [==============================] - 3s 1ms/step - loss: 0.3032 - acc: 0.9437 - val_loss: 1.2627 - val_acc: 0.6991\n",
      "\n",
      "Epoch 00007: val_acc did not improve from 0.70039\n",
      "Epoch 8/10\n",
      "2311/2311 [==============================] - 3s 1ms/step - loss: 0.2000 - acc: 0.9654 - val_loss: 1.2128 - val_acc: 0.7315\n",
      "\n",
      "Epoch 00008: val_acc improved from 0.70039 to 0.73152, saving model to weights.hdf5\n",
      "Epoch 9/10\n",
      "2311/2311 [==============================] - 3s 1ms/step - loss: 0.1439 - acc: 0.9745 - val_loss: 1.2609 - val_acc: 0.7134\n",
      "\n",
      "Epoch 00009: val_acc did not improve from 0.73152\n",
      "Epoch 10/10\n",
      "2311/2311 [==============================] - 4s 2ms/step - loss: 0.1063 - acc: 0.9775 - val_loss: 1.2527 - val_acc: 0.7263\n",
      "\n",
      "Epoch 00010: val_acc did not improve from 0.73152\n"
     ]
    }
   ],
   "source": [
    "X_train, X_test, y_train, y_test = train_test_split(post_seq_padded, y, test_size=0.05)\n",
    "vocab_size = len(tokenizer.word_index) + 1\n",
    "inputs = Input(shape=(MAX_LENGTH, ))\n",
    "embedding_layer = Embedding(vocab_size,128,input_length=MAX_LENGTH)(inputs)\n",
    "\n",
    "\n",
    "x = LSTM(64)(embedding_layer)\n",
    "x = Dense(32, activation='relu')(x)\n",
    "predictions = Dense(num_class, activation='softmax')(x)\n",
    "model = Model(inputs=[inputs], outputs=predictions)\n",
    "model.compile(optimizer='adam',\n",
    "              loss='categorical_crossentropy',\n",
    "              metrics=['acc'])\n",
    "\n",
    "model.summary()\n",
    "filepath=\"weights.hdf5\"\n",
    "checkpointer = ModelCheckpoint(filepath, monitor='val_acc', verbose=1, save_best_only=True, mode='max')\n",
    "history = model.fit([X_train], batch_size=64, y=to_categorical(y_train), verbose=1, validation_split=0.25, \n",
    "          shuffle=True, epochs=10, callbacks=[checkpointer])\n",
    "\n",
    "\n"
   ]
  },
  {
   "cell_type": "code",
   "execution_count": 9,
   "metadata": {},
   "outputs": [
    {
     "data": {
      "image/png": "[encoded data removed]",
      "text/plain": [
       "<Figure size 432x288 with 1 Axes>"
      ]
     },
     "metadata": {},
     "output_type": "display_data"
    }
   ],
   "source": [
    "df = pd.DataFrame({'epochs':history.epoch, 'accuracy': history.history['acc'], 'validation_accuracy': history.history['val_acc']})\n",
    "g = sns.pointplot(x=\"epochs\", y=\"accuracy\", data=df, fit_reg=False)\n",
    "g = sns.pointplot(x=\"epochs\", y=\"validation_accuracy\", data=df, fit_reg=False, color='green')"
   ]
  },
  {
   "cell_type": "code",
   "execution_count": 10,
   "metadata": {},
   "outputs": [
    {
     "data": {
      "text/plain": [
       "0.7914110429447853"
      ]
     },
     "execution_count": 10,
     "metadata": {},
     "output_type": "execute_result"
    }
   ],
   "source": [
    "model.load_weights('weights.hdf5')\n",
    "predicted = model.predict(X_test)\n",
    "predicted = np.argmax(predicted, axis=1)\n",
    "accuracy_score(y_test, predicted)\n"
   ]
  },
  {
   "cell_type": "code",
   "execution_count": 31,
   "metadata": {},
   "outputs": [
    {
     "name": "stdout",
     "output_type": "stream",
     "text": [
      "Category:  History\n"
     ]
    }
   ],
   "source": [
    "tokenizer.fit_on_texts(title)\n",
    "post_seq = tokenizer.texts_to_sequences(title)\n",
    "post = pad_sequences(post_seq, maxlen=10)\n",
    "pred = model.predict(post)\n",
    "predict = np.argmax(pred, axis=1)\n",
    "p=0\n",
    "if title[0][0] in d_best:\n",
    "    print(d_best[title[0][0]])\n",
    "    p=1\n",
    "if(not p):\n",
    "    print(\"Category: \",d[predict[0]])"
   ]
  },
  {
   "cell_type": "markdown",
   "metadata": {},
   "source": [
    "### Tag"
   ]
  },
  {
   "cell_type": "code",
   "execution_count": 32,
   "metadata": {},
   "outputs": [
    {
     "name": "stdout",
     "output_type": "stream",
     "text": [
      "#india\n",
      "#topwebsites\n",
      "#websitesindia\n",
      "#topwebsitesindia\n"
     ]
    }
   ],
   "source": [
    "title=title[0][0].split()\n",
    "filtered_sentence=[ele for ele in title if ele not in stop_words1]\n",
    "tags1 = []\n",
    "for i in range(len(filtered_sentence)):\n",
    "    p=\"#\"+\"\".join(filtered_sentence[i:i+3])\n",
    "    q=\"#\"+\"\".join(filtered_sentence[i:i+2])\n",
    "    tags1.append(p)\n",
    "    tags1.append(q)\n",
    "tags1 = list(set(tags1))\n",
    "for ele in tags1[::-1]:\n",
    "    print(ele)\n"
   ]
  },
  {
   "cell_type": "code",
   "execution_count": 20,
   "metadata": {},
   "outputs": [],
   "source": [
    "tags2={'Academic':['#academic', '#education', '#student', '#university', '#school', '#research', '#college', '#learning', '#educators', '#art', '#class', '#science', '#academia', '#academics', '#career', '#phd', '#classes', '#students', '#tutor', '#researcher', '#phdlife', '#study', '#scholar', '#tutorial', '#studentlife', '#academiclife', '#careeropportunities', '#careergoals', '#collegelife', '#bhfyp', '#teacher', '#educationalbatch', '#parents', '#studygram', '#engineering', '#tuition', '#motivation', '#writing', '#assignment', '#drawing', '#dissertation', '#english', '#tuitions', '#teacherlife', '#academicwriting', '#educator', '#conference', '#taeg', '#testprep', '#commerce', '#australia', '#learn', '#teachersofinstagram', '#teaching', '#gbec', '#phdstudent', '#chemistry', '#history', '#medicine', '#privatetutoring'],\n",
    "      'Art':['#art', '#artist', '#drawing', '#artwork', '#love', '#photography', '#painting', '#illustration', '#design', '#sketch', '#digitalart', '#artistsoninstagram', '#instagood', '#arte', '#photooftheday', '#draw', '#like', '#fashion', '#instaart', '#beautiful', '#instagram', '#contemporaryart', '#music', '#fanart', '#follow', '#nature', '#picoftheday', '#photo', '#artoftheday', '#bhfyp', '#anime', '#style', '#portrait', '#creative', '#cute', '#bhfyp', '#tattoo', '#sketchbook', '#ink', '#travel', '#life', '#paint', '#happy', '#beauty', '#architecture', '#artgallery', '#color', '#watercolor', '#arts', '#drawings', '#abstractart', '#gallery', '#streetart', '#photographer', '#artsy', '#blackandwhite', '#fineart', '#graphicdesign', '#doodle', '#graffiti'],\n",
    "      'Bussiness':['#bussiness', '#entrepreneur', '#success', '#money', '#motivation', '#marketing', '#lifestyle', '#instagram', '#instagood', '#love', '#business', '#like', '#businessowner', '#negocios', '#likeforlikes', '#work', '#investment', '#quotes', '#follow', '#photography', '#startup', '#inspiration', '#bisnis', '#marketingdigital', '#entrepreneurship', '#fashion', '#venezuela', '#life', '#enterpreneur', '#bhfyp', '#design', '#n', '#luxurylifestyle', '#travel', '#bussinesswoman', '#bisnisonline', '#goals', '#businesswoman', '#mindset', '#ebiz', '#luxury', '#motivationalquotes', '#emprendedores', '#india', '#billionaire', '#art', '#photooftheday', '#a', '#online', '#digitalmarketing', '#entrepreneurlife', '#sukses', '#brand', '#nevergiveup', '#bussinessman', '#beauty', '#followforfollowback', '#k', '#bussines', '#realestate', '#entrepreneur', '#business', '#motivation', '#entrepreneurship', '#success', '#entrepreneurlife', '#smallbusiness', '#marketing', '#inspiration', '#love', '#money', '#startup', '#businessowner', '#hustle', '#goals', '#lifestyle', '#mindset', '#fashion', '#instagood', '#realestate', '#digitalmarketing', '#life', '#follow', '#girlboss', '#branding', '#businesswoman', '#entrepreneurs', '#motivationalquotes', '#leadership', '#bhfyp', '#success', '#motivation', '#entrepreneur', '#business', '#inspiration', '#love', '#goals', '#life', '#mindset', '#motivationalquotes', '#money', '#quotes', '#lifestyle', '#entrepreneurship', '#instagood', '#hustle', '#successquotes', '#leadership', '#marketing', '#happiness', '#fitness', '#wealth', '#happy', '#instagram', '#inspirationalquotes', '#believe', '#follow', '#positivevibes', '#startup', '#bhfyp', '#successmindset', '#inspire', '#quoteoftheday', '#hardwork', '#entrepreneurlife', '#successful', '#work', '#millionaire', '#like', '#businessowner', '#positivity', '#growth', '#health', '#realestate', '#luxury', '#selflove', '#investment', '#quote', '#education', '#bhfyp', '#nevergiveup', '#forex', '#smallbusiness', '#focus', '#fashion', '#passion', '#lifequotes', '#dream', '#bitcoin', '#finance'],\n",
    "      'Crime':['#crime', '#truecrime', '#drama', '#thriller', '#murder', '#movie', '#film', '#mystery', '#truecrimecommunity', '#police', '#o', '#horror', '#action', '#criminal', '#podcast', '#movies', '#truecrimepodcast', '#s', '#comedy', '#cinema', '#bookstagram', '#serialkillers', '#truecrimeaddict', '#serialkiller', '#art', '#books', '#crimescene', '#love', '#news', '#justice', '#netflix', '#book', '#killer', '#death', '#mafia', '#suspense', '#truecrimejunkie', '#london', '#brasil', '#bhfyp', '#detective', '#direito', '#podcasting', '#law', '#history', '#podcastersofinstagram', '#booklover', '#podcasts', '#tv', '#crimefiction', '#forensics', '#creepy', '#murderino', '#films', '#investigation', '#series', '#violence', '#bookworm', '#direitopenal', ''],\n",
    "      'Culture':['#culture', '#art', '#music', '#photography', '#travel', '#love', '#history', '#fashion', '#hiphop', '#nature', '#india', '#tradition', '#heritage', '#instagood', '#artist', '#cultura', '#dance', '#instagram', '#photooftheday', '#architecture', '#lifestyle', '#africa', '#life', '#travelphotography', '#style', '#like', '#follow', '#community', '#beautiful', '#beauty', '#design', '#food', '#traditional', '#rap', '#picoftheday', '#festival', '#explore', '#indonesia', '#photo', '#museum', '#repost', '#arte', '#adventure', '#travelgram', '#people', '#inspiration', '#family', '#s', '#photographer', '#arts', '#fun', '#japan', '#painting', '#italy', '#budaya', '#bhfyp', '#education', '#ig', '#paris'],\n",
    "      'Economy': ['#economy', '#business', '#economics', '#money', '#covid', '#finance', '#coronavirus', '#india', '#stockmarket', '#news', '#politics', '#investing', '#indianeconomy', '#investment', '#usa', '#economia', '#entrepreneur', '#stocks', '#education', '#economist', '#trump', '#motivation', '#microeconomics', '#trading', '#macroeconomics', '#success', '#bitcoin', '#wealth', '#econometrics', '#marketing', '#government', '#economic', '#forex', '#upsc', '#corona', '#trade', '#follow', '#realestate', '#world', '#invest', '#commerce', '#capitalism', '#china', '#like', '#internationaleconomics', '#history', '#modi', '#pandemic', '#wallstreet', '#shipping', '#donaldtrump', '#recession', '#memes', '#school', '#entrepreneurship', '#economyclass', '#financial', '#instagram', '#netjrf'],\n",
    "      'Education':['#education', '#learning', '#school', '#students', '#love', '#children', '#motivation', '#kids', '#student', '#study', '#teacher', '#college', '#learn', '#science', '#university', '#india', '#teaching', '#knowledge', '#training', '#business', '#success', '#teachersofinstagram', '#teachers', '#inspiration', '#community', '#art', '#technology', '#english', '#instagood', '#fun', '#instagram', '#covid', '#health', '#preschool', '#career', '#studyabroad', '#nonprofit', '#entrepreneur', '#family', '#life', '#schools', '#educationmatters', '#stem', '#parenting', '#educational', '#studentlife', '#music', '#repost', '#engineering', '#edtech', '#parents', '#teachersfollowteachers', '#charity', '#nature', '#travel', '#leadership', '#follow', '#kindergarten', '#goals'],\n",
    "      'Energy':['#energy', '#love', '#fitness', '#health', '#healing', '#motivation', '#meditation', '#life', '#power', '#nature', '#positivevibes', '#spiritual', '#inspiration', '#selflove', '#yoga', '#healthy', '#spirituality', '#goodvibes', '#happiness', '#lifestyle', '#wellness', '#art', '#peace', '#happy', '#universe', '#music', '#soul', '#healthylifestyle', '#instagood', '#mindfulness', '#consciousness', '#vibes', '#renewableenergy', '#energyhealing', '#solar', '#selfcare', '#crystals', '#light', '#positivity', '#energia', '#workout', '#weightloss', '#follow', '#reiki', '#spiritualawakening', '#chakras', '#positive', '#smile', '#lawofattraction', '#energydrink', '#goals', '#focus', '#mindset', '#balance', '#photography', '#gym', '#fit', '#awakening', '#like'],\n",
    "      'Entertainment':['#entertainment', '#music', '#fun', '#love', '#comedy', '#hiphop', '#fashion', '#party', '#dance', '#instagood', '#follow', '#events', '#art', '#news', '#instagram', '#artist', '#funny', '#media', '#livemusic', '#event', '#photography', '#actor', '#memes', '#movies', '#dj', '#like', '#nightlife', '#singer', '#entertainer', '#bollywood', '#show', '#viral', '#hollywood', '#trending', '#youtube', '#film', '#live', '#repost', '#tv', '#podcast', '#radio', '#rap', '#business', '#entrepreneur', '#actress', '#model', '#india', '#wedding', '#family', '#food', '#tiktok', '#motivation', '#movie', '#funnymemes', '#dancer', '#celebrity', '#explorepage', '#photooftheday'],\n",
    "      'Geograpghy':['#geography', '#history', '#maps', '#geografia', '#map', '#nature', '#travel', '#cartography', '#upsc', '#earth', '#world', '#currentaffairs', '#photography', '#mapping', '#geology', '#landscape', '#instagram', '#art', '#education', '#science', '#europe', '#ssc', '#enem', '#naturephotography', '#geografi', '#study', '#facts', '#worldmap', '#instagood'],\n",
    "      'Government':['#government', '#politics', '#india', '#covid', '#news', '#coronavirus', '#america', '#trump', '#usa', '#corona', '#love', '#vote', '#republican', '#business', '#upsc', '#maga', '#bjp', '#donaldtrump', '#congress', '#democrat', '#education', '#election', '#instagram', '#freedom', '#money', '#currentaffairs', '#gk', '#democracy', '#narendramodi', '#truth', '#liberal', '#conservative', '#elections', '#ssc', '#lockdown', '#modi', '#economy', '#political', '#follow', '#virus', '#governmentjobs', '#world', '#indian', '#stayhome', '#libertarian', '#ias', '#democrats', '#corruption', '#knowledge', '#delhi', '#newworldorder', '#illuminati', '#conspiracy', '#unitednations', '#peace', '#repost', '#people', '#meme'],\n",
    "      'Health':['#health', '#fitness', '#wellness', '#healthy', '#healthylifestyle', '#motivation', '#workout', '#gym', '#love', '#fit', '#lifestyle', '#nutrition', '#training', '#fitnessmotivation', '#weightloss', '#exercise', '#healthyfood', '#fitfam', '#bodybuilding', '#covid', '#beauty', '#life', '#healthyliving', '#food', '#instagood', '#diet', '#healthcare', '#selfcare', '#yoga', '#coronavirus', '#fitspo', '#gymlife', '#personaltrainer', '#mentalhealth', '#goals', '#strong', '#muscle', '#sport', '#medicine', '#strength', '#inspiration', '#healing', '#organic', '#natural', '#cardio', '#wellbeing', '#happy', '#happiness', '#bhfyp', '#medical', '#crossfit', '#skincare', '#selflove', '#doctor', '#instafit', '#healthyeating', '#healthylife', '#follow', '#family'],\n",
    "      'History':['#history', '#travel', '#ww', '#photography', '#art', '#architecture', '#culture', '#love', '#photooftheday', '#museum', '#heritage', '#s', '#nature', '#travelphotography', '#historia', '#instagood', '#historical', '#italy', '#worldwar', '#memes', '#war', '#instagram', '#ig', '#picoftheday', '#vintage', '#photo', '#europe', '#india', '#beautiful', '#historymemes', '#explore', '#travelgram', '#germany', '#medieval', '#a', '#ancient', '#follow', '#military', '#historic', '#france', '#usa', '#italia', '#bhfyp', '#wwii', '#adventure', '#old', '#like', '#archaeology', '#city', '#life', '#castle', '#tourism', '#storia', '#landscape', '#world', '#instatravel', '#church'],\n",
    "      'Language':['#language', '#english', '#languagelearning', '#learning', '#vocabulary', '#learn', '#languages', '#learnenglish', '#education', '#grammar', '#words', '#culture', '#study', '#englishlanguage', '#wordoftheday', '#love', '#s', '#linguistics', '#ielts', '#englishteacher', '#polyglot', '#learningenglish', '#languagestudy', '#esl', '#spanish', '#french', '#art', '#teacher', '#toefl', '#languagelover', '#languageschool', '#german', '#travel', '#englishvocabulary', '#englishgrammar', '#ingles', '#studyenglish', '#school', '#foreignlanguage', '#japanese', '#arabic', '#hsk', '#learninglanguages', '#t', '#translation', '#idiomas', '#englishtips', '#word', '#n', '#chinese', '#studygram', '#instagood', '#speech', '#poetry', '#englishlearning', '#communication', '#instagram', '#idioms', '#writing'],\n",
    "      'Law':['#law', '#lawyer', '#legal', '#lawyers', '#attorney', '#lawschool', '#lawfirm', '#lawstudent', '#lawyerlife', '#justice', '#direito', '#lawyersofinstagram', '#personalinjury', '#advocate', '#court', '#business', '#clat', '#lawstudents', '#supremecourt', '#hukuk', '#abogados', '#studygram', '#lawyering', '#a', '#attorneys', '#derecho', '#study', '#advogada', '#jura', '#litigation', '#advogado', '#avvocato', '#onepiece', '#indianlaw', '#advocacia', '#india', '#lawlife', '#attorneyatlaw', '#oab', '#familylaw', '#businesslaw', '#motivation', '#avukat', '#legalnews', '#abogado', '#o', '#university', '#direitoporamor', '#l', '#instalawyer', '#follow', '#lawyerstyle', '#judiciary', '#legaladvice', '#lawstudentlife', '#news'],\n",
    "      'Life':['#life', '#love', '#like', '#instagood', '#follow', '#lifestyle', '#instagram', '#happy', '#photography', '#photooftheday', '#smile', '#nature', '#art', '#motivation', '#me', '#beautiful', '#style', '#travel', '#picoftheday', '#fun', '#photo', '#instadaily', '#music', '#followme', '#quotes', '#fashion', '#l', '#inspiration', '#live', '#cute', '#likeforlikes', '#selfie', '#family', '#myself', '#happiness', '#fitness', '#beauty', '#bhfyp', '#instalike', '#girl', '#instamood', '#peace', '#likes', '#igers', '#success', '#amazing', '#model', '#health', '#mylife', '#lifequotes', '#goals', '#followforfollowback', '#world', '#believe', '#pic'],\n",
    "      'Music':['#music', '#love', '#hiphop', '#rap', '#musician', '#art', '#singer', '#musica', '#dj', '#artist', '#rock', '#dance', '#instagood', '#like', '#guitar', '#follow', '#instagram', '#song', '#party', '#livemusic', '#live', '#s', '#concert', '#photography', '#newmusic', '#producer', '#instamusic', '#band', '#musicvideo', '#video', '#fashion', '#rapper', '#trap', '#pop', '#beats', '#bhfyp', '#youtube', '#m', '#fun', '#cover', '#spotify', '#repost', '#metal', '#photooftheday', '#musically', '#happy', '#bass', '#musicians', '#piano', '#likeforlikes', '#musicproducer', '#songwriter', '#explorepage', '#radio', '#friends', '#songs', '#a', '#soundcloud', '#picoftheday'],\n",
    "      'Nature':['#nature', '#naturephotography', '#photography', '#travel', '#love', '#photooftheday', '#landscape', '#instagood', '#naturelovers', '#beautiful', '#picoftheday', '#ig', '#photo', '#sunset', '#instagram', '#art', '#wildlife', '#travelphotography', '#sky', '#like', '#mountains', '#flowers', '#adventure', '#naturelover', '#winter', '#follow', '#life', '#birds', '#hiking', '#landscapephotography', '#beauty', '#outdoors', '#explore', '#bhfyp', '#forest', '#green', '#summer', '#animals', '#wanderlust', '#sun', '#canon', '#beach', '#macro', '#happy', '#travelgram', '#trees', '#spring', '#sea', '#tree', '#natur', '#wildlifephotography', '#clouds', '#india', '#instadaily', '#naturaleza', '#snow', '#a', '#cute', '#amazing'],\n",
    "      'People':['#people', '#love', '#photography', '#life', '#portrait', '#instagram', '#instagood', '#art', '#photooftheday', '#travel', '#streetphotography', '#like', '#nature', '#music', '#world', '#street', '#fashion', '#beautiful', '#follow', '#india', '#photo', '#happy', '#bnw', '#lifestyle', '#style', '#friends', '#blackandwhite', '#fun', '#picoftheday', '#city', '#smile', '#photographer', '#girl', '#motivation', '#me', '#quotes', '#family', '#travelphotography', '#yourself', '#model', '#canon', '#live', '#party', '#portraitphotography', '#architecture', '#peace', '#beauty', '#business', '#instadaily', '#culture', '#food', '#a', '#work', '#insta', '#artist', '#likeforlikes', '#mood', '#happiness'],\n",
    "      'Philosophy':['#philosophy', '#art', '#life', '#quotes', '#love', '#wisdom', '#psychology', '#philosopher', '#inspiration', '#poetry', '#motivation', '#spirituality', '#photography', '#truth', '#meditation', '#mindfulness', '#philosophyquotes', '#thoughts', '#quoteoftheday', '#artist', '#nature', '#quote', '#writer', '#consciousness', '#books', '#filosofia', '#knowledge', '#mindset', '#stoicism', '#philosophical', '#philosophymemes', '#lifestyle', '#writersofinstagram', '#literature', '#science', '#culture', '#buddha', '#health', '#quotestoliveby', '#bhfyp', '#stoic', '#mind', '#peace', '#inspirationalquotes', '#yoga', '#history', '#wordsofwisdom', '#thinking', '#instagram', '#existentialism', '#success', '#freedom', '#happiness', '#god', '#music', '#zen', '#think', '#lifequotes', '#philosophie'],\n",
    "      'Politics':['#politics', '#trump', '#news', '#india', '#election', '#usa', '#republican', '#conservative', '#maga', '#memes', '#america', '#vote', '#donaldtrump', '#bjp', '#congress', '#democrat', '#democrats', '#politicalmemes', '#liberal', '#meme', '#political', '#government', '#love', '#narendramodi', '#berniesanders', '#freedom', '#art', '#bernie', '#politik', '', '#covid', '#coronavirus', '#modi', '#democracy', '#elections', '#indianpolitics', '#history', '#libertarian', '#amitshah', '#instagram', '#rahulgandhi', '#delhi', '#funny', '#socialism', '#president', '#politica', '#follow', '#media', '#instagood', '#indian', '#makeamericagreatagain', '#a', '#maharashtra', '#gop', '#business', '#republicans', '#corona', '#photography', '#communism', '#dankmemes'],\n",
    "      'Religion':['#religion', '#god', '#islam', '#faith', '#love', '#jesus', '#church', '#muslim', '#pray', '#allah', '#spirituality', '#peace', '#spiritual', '#quran', '#christianity', '#life', '#india', '#bible', '#prayer', '#christian', '#art', '#believe', '#hope', '#meditation', '#travel', '#grace', '#amen', '#jesuschrist', '#prayers', '#soul', '#instagram', '#instagood', '#hindu', '#atheist', '#islamic', '#quotes', '#sunnah', '#trust', '#catholic', '#mind', '#religious', '#atheism', '#praying', '#culture', '#forgiveness', '#faithful', '#compassion', '#architecture', '#history', '#calm', '#destiny', '#knowledge', '#a', '#islamicquotes', '#guidance', '#christ', '#hinduism'],\n",
    "      'Science':['#science', '#biology', '#technology', '#chemistry', '#physics', '#research', '#art', '#space', '#nature', '#engineering', '#education', '#scientist', '#nasa', '#stem', '#astronomy', '#facts', '#universe', '#medicine', '#love', '#health', '#memes', '#math', '#knowledge', '#sciencememes', '#life', '#earth', '#laboratory', '#tech', '#maths', '#instagood', '#instagram', '#ciencia', '#bhfyp', '#cosmos', '#medical', '#india', '#photography', '#covid', '#study', '#learning', '#school', '#innovation', '#mathematics', '#microbiology', '#astrophysics', '#scicomm', '#repost', '#follow', '#student', '#meme', '#history', '#motivation', '#like', '#galaxy', '#sciencefacts', '#coronavirus', '#design', '#spacex', '#fun'],\n",
    "      'Society':['#society', '#love', '#life', '#art', '#bhfyp', '#futebol', '#photography', '#cannabiscommunity', '#cannabis', '#culture', '#people', '#artist', '#follow', '#quotes', '#instagram', '#weed', '#community', '#memes', '#dabs', '#weedporn', '#thc', '#instagood', '#like', '#cbd', '#social', '#music', '#india', '#dab', '#world', ''],\n",
    "      'Sports':['#sports', '#sport', '#football', '#fitness', '#basketball', '#nfl', '#nba', '#training', '#soccer', '#gym', '#workout', '#motivation', '#athlete', '#baseball', '#follow', '#love', '#instagood', '#fun', '#sportsphotography', '#fit', '#mlb', '#photography', '#running', '#instagram', '#like', '#hockey', '#health', '#nike', '#fashion', '#life', '#fitnessmotivation', '#espn', '#boxing', '#cricket', '#lifestyle', '#nhl', '#news', '#ball', '#photooftheday', '#mma', '#f', '#game', '#tennis', '#india', '#sportswear', '#k', '#futbol', '#bhfyp', '#ballislife', '#ncaa', '#rugby', '#bodybuilding', '#art', '#collegefootball', '#run', '#athletes', '#healthy', '#style', '#travel'],\n",
    "      'Techonology':['#technology', '#tech', '#innovation', '#engineering', '#business', '#iphone', '#science', '#design', '#electronics', '#apple', '#gadgets', '#technews', '#smartphone', '#instagood', '#android', '#software', '#programming', '#instatech', '#samsung', '#computer', '#security', '#pro', '#gadget', '#coding', '#education', '#bhfyp', '#startup', '#future', '#techie', '#bhfyp', '#ai', '#cybersecurity', '#art', '#iot', '#marketing', '#artificialintelligence', '#mobile', '#it', '#engineer', '#tecnologia', '#robotics', '#d', '#instagram', '#india', '#techno', '#follow', '#technologynews', '#photooftheday', '#automation', '#geek', '#internet', '#s', '#entrepreneur', '#g', '#love', '#computerscience', '#oneplus', '#google', '#like', '#news'],\n",
    "      'Universe':['#universe', '#love', '#space', '#art', '#astronomy', '#nature', '#cosmos', '#science', '#galaxy', '#energy', '#stars', '#life', '#nasa', '#meditation', '#spirituality', '#earth', '#moon', '#spiritual', '#peace', '#photography', '#lawofattraction', '#soul', '#astrophotography', '#consciousness', '#selflove', '#spiritualawakening', '#healing', '#inspiration', '#awakening', '#bhfyp', '#world', '#physics', '#happiness', '#astrophysics', '#motivation', '#gratitude', '#god', '#mindfulness', '#artist', '#positivevibes', '#wisdom', '#planets', '#pentagon', '#milkyway', '#believe', '#enlightenment', '#faith', '#goodvibes', '#light', '#quotes', '#instagood', '#spirit', '#magic', '#lightworker', '#solarsystem', '#instagram', '#thirdeye', '#yoga', '#cosmology', '#nightsky']}"
   ]
  },
  {
   "cell_type": "code",
   "execution_count": 35,
   "metadata": {},
   "outputs": [
    {
     "name": "stdout",
     "output_type": "stream",
     "text": [
      "#history\n",
      "#travel\n",
      "#ww\n",
      "#photography\n",
      "#art\n",
      "#architecture\n",
      "#culture\n",
      "#love\n",
      "#photooftheday\n",
      "#museum\n"
     ]
    }
   ],
   "source": [
    "def print_tag(ta):\n",
    "    count=0\n",
    "    while count<10:\n",
    "        print(ta[count])\n",
    "        count+=1\n",
    "tag=tags2[\"History\"]\n",
    "print_tag(tag)\n"
   ]
  },
  {
   "cell_type": "code",
   "execution_count": null,
   "metadata": {},
   "outputs": [],
   "source": []
  },
  {
   "cell_type": "code",
   "execution_count": null,
   "metadata": {},
   "outputs": [],
   "source": []
  },
  {
   "cell_type": "code",
   "execution_count": 37,
   "metadata": {},
   "outputs": [],
   "source": []
  },
  {
   "cell_type": "code",
   "execution_count": null,
   "metadata": {},
   "outputs": [],
   "source": []
  },
  {
   "cell_type": "code",
   "execution_count": null,
   "metadata": {},
   "outputs": [],
   "source": []
  },
  {
   "cell_type": "code",
   "execution_count": null,
   "metadata": {},
   "outputs": [],
   "source": []
  },
  {
   "cell_type": "code",
   "execution_count": null,
   "metadata": {},
   "outputs": [],
   "source": []
  },
  {
   "cell_type": "code",
   "execution_count": null,
   "metadata": {},
   "outputs": [],
   "source": []
  },
  {
   "cell_type": "code",
   "execution_count": null,
   "metadata": {},
   "outputs": [],
   "source": []
  }
 ],
 "metadata": {
  "kernelspec": {
   "display_name": "Python 3",
   "language": "python",
   "name": "python3"
  },
  "language_info": {
   "codemirror_mode": {
    "name": "ipython",
    "version": 3
   },
   "file_extension": ".py",
   "mimetype": "text/x-python",
   "name": "python",
   "nbconvert_exporter": "python",
   "pygments_lexer": "ipython3",
   "version": "3.6.5"
  }
 },
 "nbformat": 4,
 "nbformat_minor": 2
}
